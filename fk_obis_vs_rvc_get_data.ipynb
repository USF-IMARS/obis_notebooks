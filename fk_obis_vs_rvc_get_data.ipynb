{
 "cells": [
  {
   "cell_type": "markdown",
   "metadata": {},
   "source": [
    "Fetch RVC dataset from obis.\n",
    "Fetch data from FKNMS area.\n",
    "Compare overviews of each."
   ]
  },
  {
   "cell_type": "code",
   "execution_count": 1,
   "metadata": {
    "scrolled": true
   },
   "outputs": [
    {
     "name": "stderr",
     "output_type": "stream",
     "text": [
      "Updating HTML index of packages in '.Library'\n",
      "\n",
      "Making 'packages.html' ...\n",
      " done\n",
      "\n",
      "Skipping install of 'robis' from a github remote, the SHA1 (bbd98afa) has not changed since last install.\n",
      "  Use `force = TRUE` to force installation\n",
      "\n",
      "Updating HTML index of packages in '.Library'\n",
      "\n",
      "Making 'packages.html' ...\n",
      " done\n",
      "\n"
     ]
    }
   ],
   "source": [
    "# setup\n",
    "install.packages(\"devtools\")\n",
    "devtools::install_github(\"iobis/robis\")\n",
    "\n",
    "install.packages(\"glue\")\n",
    "library(\"glue\")"
   ]
  },
  {
   "cell_type": "code",
   "execution_count": 2,
   "metadata": {},
   "outputs": [],
   "source": [
    "# variables \n",
    "FKNMS_WKT <- \"POLYGON((-83.15 25.65, -80.066667 25.65, -80.066667 24.3, -83.15 24.3, -83.15 25.65))\"\n",
    "RVC_2010_ID <- 'c91bedb0-5fa7-4d3d-80c4-fd4a3bbafdc0'\n",
    "rvc_records_file <- glue('{RVC_2010_ID}.csv')\n",
    "obis_records_file <- 'FKNMS.csv'"
   ]
  },
  {
   "cell_type": "code",
   "execution_count": 3,
   "metadata": {},
   "outputs": [],
   "source": [
    "# data query cache setup:\n",
    "has_cache <- function(\n",
    "    fpath\n",
    "){\n",
    "    # returns true if given query id is cached\n",
    "    if (file.exists(fpath)){\n",
    "        return(TRUE)\n",
    "    } else {\n",
    "        return(FALSE)\n",
    "    }\n",
    "}"
   ]
  },
  {
   "cell_type": "code",
   "execution_count": 7,
   "metadata": {},
   "outputs": [],
   "source": [
    "# fetch data from RVC dataset\n",
    "\n",
    "# only re-runs this if the dataset data file DNE\n",
    "if (has_cache(rvc_records_file)){\n",
    "    rvc_records <- read.csv(rvc_records_file)\n",
    "} else {\n",
    "    rvc_records <- robis::occurrence(\n",
    "        datasetid = RVC_2010_ID\n",
    "    )\n",
    "    write.csv(rvc_records, file = rvc_record_file)\n",
    "}\n"
   ]
  },
  {
   "cell_type": "code",
   "execution_count": 8,
   "metadata": {},
   "outputs": [],
   "source": [
    "# TODO: verify that no RVC data is outside the WKT\n"
   ]
  },
  {
   "cell_type": "code",
   "execution_count": 4,
   "metadata": {},
   "outputs": [
    {
     "name": "stderr",
     "output_type": "stream",
     "text": [
      "Retrieved 5000 records of approximately 142758 (3%)\n",
      "Retrieved 10000 records of approximately 142758 (7%)\n",
      "Retrieved 15000 records of approximately 142758 (10%)\n",
      "Retrieved 20000 records of approximately 142758 (14%)\n",
      "Retrieved 25000 records of approximately 142758 (17%)\n",
      "Retrieved 30000 records of approximately 142758 (21%)\n",
      "Retrieved 35000 records of approximately 142758 (24%)\n",
      "Retrieved 40000 records of approximately 142758 (28%)\n",
      "Retrieved 45000 records of approximately 142758 (31%)\n",
      "Retrieved 50000 records of approximately 142758 (35%)\n",
      "Retrieved 55000 records of approximately 142758 (38%)\n",
      "Retrieved 60000 records of approximately 142758 (42%)\n",
      "Retrieved 65000 records of approximately 142758 (45%)\n",
      "Retrieved 70000 records of approximately 142758 (49%)\n",
      "Retrieved 75000 records of approximately 142758 (52%)\n",
      "Retrieved 80000 records of approximately 142758 (56%)\n",
      "Retrieved 85000 records of approximately 142758 (59%)\n",
      "Retrieved 90000 records of approximately 142758 (63%)\n",
      "Retrieved 95000 records of approximately 142758 (66%)\n",
      "Retrieved 1e+05 records of approximately 142758 (70%)\n",
      "Retrieved 105000 records of approximately 142758 (73%)\n",
      "Retrieved 110000 records of approximately 142758 (77%)\n",
      "Retrieved 115000 records of approximately 142758 (80%)\n",
      "Retrieved 120000 records of approximately 142758 (84%)\n",
      "Retrieved 125000 records of approximately 142758 (87%)\n",
      "Retrieved 130000 records of approximately 142758 (91%)\n",
      "Retrieved 135000 records of approximately 142758 (94%)\n",
      "Retrieved 140000 records of approximately 142758 (98%)\n",
      "Retrieved 142758 records of approximately 142758 (100%)\n"
     ]
    }
   ],
   "source": [
    "# fetch data from area\n",
    "\n",
    "if (has_cache(obis_records_file)){\n",
    "    obis_records <- read.csv(obis_records_file)\n",
    "} else {\n",
    "    obis_records <- robis::occurrence(\n",
    "        geometry = FKNMS_WKT,\n",
    "        startdate = as.Date(\"2010-01-01\"),\n",
    "        enddate   = as.Date(\"2010-12-31\")\n",
    "    )\n",
    "    write.csv(obis_records, file = obis_records_file)\n",
    "}"
   ]
  },
  {
   "cell_type": "code",
   "execution_count": null,
   "metadata": {},
   "outputs": [],
   "source": []
  }
 ],
 "metadata": {
  "kernelspec": {
   "display_name": "R",
   "language": "R",
   "name": "ir"
  },
  "language_info": {
   "codemirror_mode": "r",
   "file_extension": ".r",
   "mimetype": "text/x-r-source",
   "name": "R",
   "pygments_lexer": "r",
   "version": "3.6.1"
  }
 },
 "nbformat": 4,
 "nbformat_minor": 2
}